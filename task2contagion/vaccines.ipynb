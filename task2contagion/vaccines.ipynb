{
 "metadata": {
  "language_info": {
   "codemirror_mode": {
    "name": "ipython",
    "version": 3
   },
   "file_extension": ".py",
   "mimetype": "text/x-python",
   "name": "python",
   "nbconvert_exporter": "python",
   "pygments_lexer": "ipython3",
   "version": "3.8.1-final"
  },
  "orig_nbformat": 2,
  "kernelspec": {
   "name": "python3",
   "display_name": "Python 3"
  }
 },
 "nbformat": 4,
 "nbformat_minor": 2,
 "cells": [
  {
   "cell_type": "code",
   "execution_count": 1,
   "metadata": {},
   "outputs": [],
   "source": [
    "import os\n",
    "import numpy as np\n",
    "import pandas as pd\n",
    "import matplotlib.pyplot as plt\n",
    "import seaborn as sns\n",
    "import scipy as sp"
   ]
  },
  {
   "cell_type": "code",
   "execution_count": 2,
   "metadata": {},
   "outputs": [
    {
     "output_type": "execute_result",
     "data": {
      "text/plain": [
       "Index(['disease', 'state', 'year', 'weeks_reporting', 'count', 'population'], dtype='object')"
      ]
     },
     "metadata": {},
     "execution_count": 2
    }
   ],
   "source": [
    "data = pd.read_csv(\"./data/us_contagious_diseases.csv\", index_col=0)\n",
    "data.keys()"
   ]
  },
  {
   "cell_type": "code",
   "execution_count": 3,
   "metadata": {},
   "outputs": [
    {
     "output_type": "execute_result",
     "data": {
      "text/plain": [
       "array(['Hepatitis A', 'Measles', 'Mumps', 'Pertussis', 'Polio', 'Rubella',\n",
       "       'Smallpox'], dtype=object)"
      ]
     },
     "metadata": {},
     "execution_count": 3
    }
   ],
   "source": [
    "polio = data[data[\"disease\"] == \"Polio\"]\n",
    "polio = polio[polio['state'] != \"Alaska\"]\n",
    "polio = polio[polio['state'] != \"Hawaii\"]\n",
    "data.disease.unique()"
   ]
  },
  {
   "cell_type": "code",
   "execution_count": 4,
   "metadata": {},
   "outputs": [
    {
     "output_type": "execute_result",
     "data": {
      "text/plain": [
       "<matplotlib.lines.Line2D at 0x2143c258be0>"
      ]
     },
     "metadata": {},
     "execution_count": 4
    }
   ],
   "source": [
    "polio[\"rate\"] = np.sqrt((polio[\"count\"]/polio[\"population\"]) * 100000 * (52 / polio[\"weeks_reporting\"]))\n",
    "groups_state = polio.groupby(\"state\")\n",
    "California = groups_state.get_group(\"California\")\n",
    "\n",
    "sns.set_theme(style=\"whitegrid\")\n",
    "sns.scatterplot(x=\"year\", y=\"rate\", data=California)\n",
    "plt.axvline(1955, 0,1, color ='red')"
   ]
  },
  {
   "cell_type": "code",
   "execution_count": null,
   "metadata": {},
   "outputs": [],
   "source": [
    "from scipy.stats import ttest_ind\n",
    "from scipy.stats import normaltest\n",
    "from scipy.stats import ttest_rel\n",
    "from statsmodels.tsa.stattools import adfuller\n",
    "from scipy.stats import shapiro"
   ]
  },
  {
   "cell_type": "code",
   "execution_count": null,
   "metadata": {},
   "outputs": [],
   "source": [
    "groups_year = polio.groupby(\"year\")\n",
    "average_rates = groups_year[\"rate\"].mean()\n",
    "print(f\"length : {len(groups_year)}\")\n",
    "print(average_rates.index[29])"
   ]
  },
  {
   "cell_type": "code",
   "execution_count": null,
   "metadata": {},
   "outputs": [],
   "source": [
    "print(\"---variance---\")\n",
    "print(f\"before vacc{average_rates[0:27].var()}\")\n",
    "print(f\"after vacc{average_rates[26:41].var()}\")\n"
   ]
  },
  {
   "cell_type": "code",
   "execution_count": null,
   "metadata": {},
   "outputs": [],
   "source": [
    "print('---normal distribution')\n",
    "stat_shap1, p_shap1 = shapiro(average_rates[0:27])\n",
    "print('stat=%.3f, p=%.3f' % (stat_shap1, p_shap1))\n",
    "if p_shap1 > 0.05:\n",
    "\tprint('before vaccine probably Gaussian')\n",
    "else:\n",
    "\tprint('before vaccine probably not Gaussian')"
   ]
  },
  {
   "cell_type": "code",
   "execution_count": null,
   "metadata": {},
   "outputs": [],
   "source": [
    "\n",
    "#looking at the values few years after 1955\n",
    "stat_shap2, p_shap2 = shapiro(average_rates[26:41])\n",
    "print('stat=%.3f, p=%.3f' % (stat_shap2, p_shap2))\n",
    "if p_shap2 > 0.05:\n",
    "\tprint('from 1955 after vaccine probably Gaussian')\n",
    "else:\n",
    "\tprint('from 1955 after vaccine probably not Gaussian')"
   ]
  },
  {
   "cell_type": "code",
   "execution_count": null,
   "metadata": {},
   "outputs": [],
   "source": [
    "#looking at all the values\n",
    "stat_shap2, p_shap2 = shapiro(average_rates)\n",
    "print('stat=%.3f, p=%.3f' % (stat_shap2, p_shap2))\n",
    "if p_shap2 > 0.05:\n",
    "\tprint('complete set probably Gaussian')\n",
    "else:\n",
    "\tprint('complete set probably not Gaussian')"
   ]
  },
  {
   "cell_type": "code",
   "execution_count": null,
   "metadata": {},
   "outputs": [],
   "source": [
    "print(\"---Stationary--\")\n",
    "stat, p, lags, obs, crit, t = adfuller(average_rates)\n",
    "print('stat=%.3f, p=%.3f' % (stat, p))\n",
    "print(f'lags:{lags}, obs:{obs}, crit:{crit}, t:{t}')\n",
    "if p > 0.05:\n",
    "\tprint('probably not Stationary')\n",
    "else:\n",
    "\tprint('probably Stationary')"
   ]
  },
  {
   "cell_type": "code",
   "execution_count": null,
   "metadata": {},
   "outputs": [],
   "source": [
    "#average per year in USA\n",
    "groups_year.rate.mean().plot()"
   ]
  },
  {
   "cell_type": "code",
   "execution_count": null,
   "metadata": {},
   "outputs": [],
   "source": [
    "from pandas.plotting import autocorrelation_plot\n",
    "fig,ax=plt.subplots()\n",
    "#visibile increasing trend up to values of 27 index which is aroun 1955\n",
    "autocorrelation_plot(groups_year.rate.mean(), ax=ax)\n",
    "#no increasing trend after and reversal to the decreasing one "
   ]
  },
  {
   "cell_type": "code",
   "execution_count": null,
   "metadata": {},
   "outputs": [],
   "source": []
  }
 ]
}